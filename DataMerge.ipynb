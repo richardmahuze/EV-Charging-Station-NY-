{
  "nbformat": 4,
  "nbformat_minor": 0,
  "metadata": {
    "colab": {
      "name": "DataMerge.ipynb",
      "provenance": [],
      "collapsed_sections": []
    },
    "kernelspec": {
      "name": "python3",
      "display_name": "Python 3"
    }
  },
  "cells": [
    {
      "cell_type": "markdown",
      "metadata": {
        "id": "iZLp_Ull4tfG",
        "colab_type": "text"
      },
      "source": [
        "# Data Preparation\n",
        "\n",
        "### Workflow\n",
        "* Import data\n",
        "* Merge\n",
        "* Duplicate cleaning\n",
        "* Data type conversion\n",
        "* Categorizing the pricing feature\n",
        "* Export to csv\n",
        "\n",
        "### Next Step\n",
        "* Handling of missing values\n",
        "* Normalization\n",
        "* Exploratory analysis (plots)\n",
        "\n"
      ]
    },
    {
      "cell_type": "markdown",
      "metadata": {
        "id": "oMJJ4WBh6Xrc",
        "colab_type": "text"
      },
      "source": [
        "#### Import Data"
      ]
    },
    {
      "cell_type": "code",
      "metadata": {
        "id": "M4_AaUhwb5au",
        "colab_type": "code",
        "colab": {}
      },
      "source": [
        "import pandas as pd\n",
        "\n",
        "data_1 = 'https://raw.githubusercontent.com/richardmahuze/sysen5880project/master/sysen5880.csv'\n",
        "data_2 = 'https://raw.githubusercontent.com/richardmahuze/sysen5880project/master/EVs_Stations_NY.csv'\n",
        "\n",
        "df1 = pd.read_csv(data_1)\n",
        "df2 = pd.read_csv(data_2)\n",
        "\n"
      ],
      "execution_count": 0,
      "outputs": []
    },
    {
      "cell_type": "markdown",
      "metadata": {
        "id": "NZwuUZZy5KTd",
        "colab_type": "text"
      },
      "source": [
        "#### Merge and clean duplicates"
      ]
    },
    {
      "cell_type": "code",
      "metadata": {
        "id": "YuD4DShS4fQp",
        "colab_type": "code",
        "colab": {}
      },
      "source": [
        "df1['Zipcode'] = pd.to_numeric(df1['Zipcode'], errors='coerce')\n",
        "\n",
        "df3 = pd.merge(df1,df2, on='Zipcode', how='inner')\n",
        "\n",
        "df3['geocode'] = list(zip(df3.Latitude, df3.Longitude))\n",
        "\n",
        "nrel = pd.read_csv('https://raw.githubusercontent.com/richardmahuze/sysen5880project/master/nrel_data.csv',\n",
        "                   usecols=range(0, 61),encoding ='ISO-8859-1')\n",
        "\n",
        "nrel.rename(columns = {'zip':'Zipcode'}, inplace = True) \n",
        "nrel.rename(columns = {'latitude':'Latitude'}, inplace = True) \n",
        "nrel.rename(columns = {'longitude':'Longitude'}, inplace = True) \n",
        "nrel['geocode'] = list(zip(nrel.Latitude, nrel.Longitude))"
      ],
      "execution_count": 0,
      "outputs": []
    },
    {
      "cell_type": "code",
      "metadata": {
        "id": "gMxU_UXf4xAg",
        "colab_type": "code",
        "outputId": "10116f22-05fd-49d9-b636-9f9be7ce1fcf",
        "colab": {
          "base_uri": "https://localhost:8080/",
          "height": 355
        }
      },
      "source": [
        "df3[['Zipcode','geocode','Station Name', 'Street Address']].head(10)\n"
      ],
      "execution_count": 0,
      "outputs": [
        {
          "output_type": "execute_result",
          "data": {
            "text/html": [
              "<div>\n",
              "<style scoped>\n",
              "    .dataframe tbody tr th:only-of-type {\n",
              "        vertical-align: middle;\n",
              "    }\n",
              "\n",
              "    .dataframe tbody tr th {\n",
              "        vertical-align: top;\n",
              "    }\n",
              "\n",
              "    .dataframe thead th {\n",
              "        text-align: right;\n",
              "    }\n",
              "</style>\n",
              "<table border=\"1\" class=\"dataframe\">\n",
              "  <thead>\n",
              "    <tr style=\"text-align: right;\">\n",
              "      <th></th>\n",
              "      <th>Zipcode</th>\n",
              "      <th>geocode</th>\n",
              "      <th>Station Name</th>\n",
              "      <th>Street Address</th>\n",
              "    </tr>\n",
              "  </thead>\n",
              "  <tbody>\n",
              "    <tr>\n",
              "      <th>0</th>\n",
              "      <td>12009.0</td>\n",
              "      <td>(42.716215999999996, -73.934492)</td>\n",
              "      <td>Hannaford Supermarket</td>\n",
              "      <td>5239 Western Tpke</td>\n",
              "    </tr>\n",
              "    <tr>\n",
              "      <th>1</th>\n",
              "      <td>12045.0</td>\n",
              "      <td>(42.472557, -73.790396)</td>\n",
              "      <td>LANDING PARK</td>\n",
              "      <td>70 Main St</td>\n",
              "    </tr>\n",
              "    <tr>\n",
              "      <th>2</th>\n",
              "      <td>12047.0</td>\n",
              "      <td>(42.78051, -73.704094)</td>\n",
              "      <td>HARMONY MILLS 1</td>\n",
              "      <td>N Mohawk St &amp; Vliet St</td>\n",
              "    </tr>\n",
              "    <tr>\n",
              "      <th>3</th>\n",
              "      <td>12047.0</td>\n",
              "      <td>(42.771298, -73.752656)</td>\n",
              "      <td>NATIONAL GRID</td>\n",
              "      <td>977 Loudon rd</td>\n",
              "    </tr>\n",
              "    <tr>\n",
              "      <th>4</th>\n",
              "      <td>12047.0</td>\n",
              "      <td>(42.775368, -73.70135)</td>\n",
              "      <td>COHOES</td>\n",
              "      <td>65 Remsen St</td>\n",
              "    </tr>\n",
              "    <tr>\n",
              "      <th>5</th>\n",
              "      <td>12047.0</td>\n",
              "      <td>(42.772415, -73.701065)</td>\n",
              "      <td>COHOES</td>\n",
              "      <td>18 White St</td>\n",
              "    </tr>\n",
              "    <tr>\n",
              "      <th>6</th>\n",
              "      <td>12047.0</td>\n",
              "      <td>(42.778925, -73.702993)</td>\n",
              "      <td>HARMONY MILLS 1</td>\n",
              "      <td>50 N Mohawk St</td>\n",
              "    </tr>\n",
              "    <tr>\n",
              "      <th>7</th>\n",
              "      <td>12047.0</td>\n",
              "      <td>(42.791645, -73.71457)</td>\n",
              "      <td>COHOES</td>\n",
              "      <td>97 N Mohawk St</td>\n",
              "    </tr>\n",
              "    <tr>\n",
              "      <th>8</th>\n",
              "      <td>12047.0</td>\n",
              "      <td>(42.780881, -73.705676)</td>\n",
              "      <td>HARMONY MILLS 1</td>\n",
              "      <td>100 N Mohawk St</td>\n",
              "    </tr>\n",
              "    <tr>\n",
              "      <th>9</th>\n",
              "      <td>12047.0</td>\n",
              "      <td>(42.78158, -73.705696)</td>\n",
              "      <td>HARMONY MILLS 1</td>\n",
              "      <td>Mohawk St &amp; Cohoes Mills</td>\n",
              "    </tr>\n",
              "  </tbody>\n",
              "</table>\n",
              "</div>"
            ],
            "text/plain": [
              "   Zipcode  ...            Street Address\n",
              "0  12009.0  ...         5239 Western Tpke\n",
              "1  12045.0  ...                70 Main St\n",
              "2  12047.0  ...    N Mohawk St & Vliet St\n",
              "3  12047.0  ...             977 Loudon rd\n",
              "4  12047.0  ...              65 Remsen St\n",
              "5  12047.0  ...               18 White St\n",
              "6  12047.0  ...            50 N Mohawk St\n",
              "7  12047.0  ...            97 N Mohawk St\n",
              "8  12047.0  ...           100 N Mohawk St\n",
              "9  12047.0  ...  Mohawk St & Cohoes Mills\n",
              "\n",
              "[10 rows x 4 columns]"
            ]
          },
          "metadata": {
            "tags": []
          },
          "execution_count": 26
        }
      ]
    },
    {
      "cell_type": "code",
      "metadata": {
        "id": "d0bxOcTT48hD",
        "colab_type": "code",
        "outputId": "a6f69465-1167-4c6c-dda2-e0fb82b25b78",
        "colab": {
          "base_uri": "https://localhost:8080/",
          "height": 35
        }
      },
      "source": [
        "# Number of duplicate geocode values in df3\n",
        "len(df3['geocode'])-len(df3['geocode'].drop_duplicates())"
      ],
      "execution_count": 0,
      "outputs": [
        {
          "output_type": "execute_result",
          "data": {
            "text/plain": [
              "21"
            ]
          },
          "metadata": {
            "tags": []
          },
          "execution_count": 27
        }
      ]
    },
    {
      "cell_type": "code",
      "metadata": {
        "id": "N1Y7G2_75CDG",
        "colab_type": "code",
        "colab": {}
      },
      "source": [
        "dupes_geocode = df3[df3.duplicated(['geocode'], keep=False)]"
      ],
      "execution_count": 0,
      "outputs": []
    },
    {
      "cell_type": "code",
      "metadata": {
        "id": "aGRwsxwC5CTN",
        "colab_type": "code",
        "outputId": "63a4d089-0a4f-4e4b-c340-af422fb964fc",
        "colab": {
          "base_uri": "https://localhost:8080/",
          "height": 355
        }
      },
      "source": [
        "# displaying the duplicates\n",
        "dupes_geocode[['Station Name','geocode']].head(10)"
      ],
      "execution_count": 0,
      "outputs": [
        {
          "output_type": "execute_result",
          "data": {
            "text/html": [
              "<div>\n",
              "<style scoped>\n",
              "    .dataframe tbody tr th:only-of-type {\n",
              "        vertical-align: middle;\n",
              "    }\n",
              "\n",
              "    .dataframe tbody tr th {\n",
              "        vertical-align: top;\n",
              "    }\n",
              "\n",
              "    .dataframe thead th {\n",
              "        text-align: right;\n",
              "    }\n",
              "</style>\n",
              "<table border=\"1\" class=\"dataframe\">\n",
              "  <thead>\n",
              "    <tr style=\"text-align: right;\">\n",
              "      <th></th>\n",
              "      <th>Station Name</th>\n",
              "      <th>geocode</th>\n",
              "    </tr>\n",
              "  </thead>\n",
              "  <tbody>\n",
              "    <tr>\n",
              "      <th>130</th>\n",
              "      <td>ScottTech</td>\n",
              "      <td>(42.103472, -75.89229300000001)</td>\n",
              "    </tr>\n",
              "    <tr>\n",
              "      <th>131</th>\n",
              "      <td>Scotttech - Tesla Destination</td>\n",
              "      <td>(42.103472, -75.89229300000001)</td>\n",
              "    </tr>\n",
              "    <tr>\n",
              "      <th>272</th>\n",
              "      <td>Buffalo Niagara Medical Campus - Ellicott Stre...</td>\n",
              "      <td>(42.89582, -78.86798)</td>\n",
              "    </tr>\n",
              "    <tr>\n",
              "      <th>273</th>\n",
              "      <td>Buffalo Niagara Medical Campus - Ellicott Stre...</td>\n",
              "      <td>(42.89582, -78.86798)</td>\n",
              "    </tr>\n",
              "    <tr>\n",
              "      <th>412</th>\n",
              "      <td>Kings County Parking - Tesla Destination</td>\n",
              "      <td>(40.656147999999995, -73.94035500000001)</td>\n",
              "    </tr>\n",
              "    <tr>\n",
              "      <th>413</th>\n",
              "      <td>Greenlots - 92133</td>\n",
              "      <td>(40.656147999999995, -73.94035500000001)</td>\n",
              "    </tr>\n",
              "    <tr>\n",
              "      <th>432</th>\n",
              "      <td>Walgreens - Brooklyn, NY #15097 |P391</td>\n",
              "      <td>(40.65678, -73.97776)</td>\n",
              "    </tr>\n",
              "    <tr>\n",
              "      <th>435</th>\n",
              "      <td>Walgreens</td>\n",
              "      <td>(40.65678, -73.97776)</td>\n",
              "    </tr>\n",
              "    <tr>\n",
              "      <th>473</th>\n",
              "      <td>Lima - Town Court</td>\n",
              "      <td>(42.90552, -77.610606)</td>\n",
              "    </tr>\n",
              "    <tr>\n",
              "      <th>474</th>\n",
              "      <td>Village of Lima</td>\n",
              "      <td>(42.90552, -77.610606)</td>\n",
              "    </tr>\n",
              "  </tbody>\n",
              "</table>\n",
              "</div>"
            ],
            "text/plain": [
              "                                          Station Name                                   geocode\n",
              "130                                          ScottTech           (42.103472, -75.89229300000001)\n",
              "131                      Scotttech - Tesla Destination           (42.103472, -75.89229300000001)\n",
              "272  Buffalo Niagara Medical Campus - Ellicott Stre...                     (42.89582, -78.86798)\n",
              "273  Buffalo Niagara Medical Campus - Ellicott Stre...                     (42.89582, -78.86798)\n",
              "412           Kings County Parking - Tesla Destination  (40.656147999999995, -73.94035500000001)\n",
              "413                                  Greenlots - 92133  (40.656147999999995, -73.94035500000001)\n",
              "432              Walgreens - Brooklyn, NY #15097 |P391                     (40.65678, -73.97776)\n",
              "435                                          Walgreens                     (40.65678, -73.97776)\n",
              "473                                  Lima - Town Court                    (42.90552, -77.610606)\n",
              "474                                    Village of Lima                    (42.90552, -77.610606)"
            ]
          },
          "metadata": {
            "tags": []
          },
          "execution_count": 29
        }
      ]
    },
    {
      "cell_type": "code",
      "metadata": {
        "id": "RnlKBS2L5H3w",
        "colab_type": "code",
        "outputId": "84733618-eb04-4246-efb9-425f37402d51",
        "colab": {
          "base_uri": "https://localhost:8080/",
          "height": 35
        }
      },
      "source": [
        "df3.shape\n"
      ],
      "execution_count": 0,
      "outputs": [
        {
          "output_type": "execute_result",
          "data": {
            "text/plain": [
              "(1654, 62)"
            ]
          },
          "metadata": {
            "tags": []
          },
          "execution_count": 30
        }
      ]
    },
    {
      "cell_type": "code",
      "metadata": {
        "id": "XcTQc3O05IGN",
        "colab_type": "code",
        "outputId": "8e68b653-1158-44a5-9eb3-83a79f04862f",
        "colab": {
          "base_uri": "https://localhost:8080/",
          "height": 35
        }
      },
      "source": [
        "df3 = df3.drop_duplicates(subset='geocode')\n",
        "df3 = df3[df3['Zipcode'].notna()]\n",
        "\n",
        "# after dropping duplicates\n",
        "df3.shape\n"
      ],
      "execution_count": 0,
      "outputs": [
        {
          "output_type": "execute_result",
          "data": {
            "text/plain": [
              "(1633, 62)"
            ]
          },
          "metadata": {
            "tags": []
          },
          "execution_count": 31
        }
      ]
    },
    {
      "cell_type": "code",
      "metadata": {
        "id": "e4tE2Y2f5bw8",
        "colab_type": "code",
        "outputId": "cf983abd-e955-4b99-8144-f6cc89ec969e",
        "colab": {
          "base_uri": "https://localhost:8080/",
          "height": 35
        }
      },
      "source": [
        "# dropping all features on nrel except geocode and ev_pricing\n",
        "nrel = nrel.filter(['geocode', 'ev_pricing'])\n",
        "\n",
        "# merging ev_pricing into the df3\n",
        "df4 = pd.merge(df3,nrel, on='geocode', how='left')\n",
        "df4.shape"
      ],
      "execution_count": 0,
      "outputs": [
        {
          "output_type": "execute_result",
          "data": {
            "text/plain": [
              "(1689, 63)"
            ]
          },
          "metadata": {
            "tags": []
          },
          "execution_count": 32
        }
      ]
    },
    {
      "cell_type": "code",
      "metadata": {
        "id": "3JrsYWO-5Uw3",
        "colab_type": "code",
        "outputId": "ce9a2929-cbec-45ad-9a00-cb591099f673",
        "colab": {
          "base_uri": "https://localhost:8080/",
          "height": 35
        }
      },
      "source": [
        "# Number of duplicate geocode values in df4\n",
        "len(df4['geocode'])-len(df4['geocode'].drop_duplicates())"
      ],
      "execution_count": 0,
      "outputs": [
        {
          "output_type": "execute_result",
          "data": {
            "text/plain": [
              "56"
            ]
          },
          "metadata": {
            "tags": []
          },
          "execution_count": 33
        }
      ]
    },
    {
      "cell_type": "code",
      "metadata": {
        "id": "ESGpZ5bn54dT",
        "colab_type": "code",
        "colab": {}
      },
      "source": [
        "dupes_geocode2 = df4[df4.duplicated(['geocode'], keep=False)]"
      ],
      "execution_count": 0,
      "outputs": []
    },
    {
      "cell_type": "code",
      "metadata": {
        "id": "uFgX9hSN54wL",
        "colab_type": "code",
        "outputId": "7f1a58f9-8699-4586-f178-3f590fbda698",
        "colab": {
          "base_uri": "https://localhost:8080/",
          "height": 35
        }
      },
      "source": [
        "# displaying the duplicates\n",
        "\n",
        "dupes_geocode2[['Station Name','Street Address','geocode','ev_pricing','EV Connector Types']].shape"
      ],
      "execution_count": 0,
      "outputs": [
        {
          "output_type": "execute_result",
          "data": {
            "text/plain": [
              "(112, 5)"
            ]
          },
          "metadata": {
            "tags": []
          },
          "execution_count": 35
        }
      ]
    },
    {
      "cell_type": "code",
      "metadata": {
        "id": "q_QafxtTLalB",
        "colab_type": "code",
        "outputId": "103377e0-34ff-4c84-c278-36935a5f218f",
        "colab": {
          "base_uri": "https://localhost:8080/",
          "height": 110
        }
      },
      "source": [
        "df4 = df4[~df4['geocode'].duplicated(keep=False) | df4[['ev_pricing']].notnull().any(axis=1)]\n",
        "df4[['Station Name','Street Address','geocode','ev_pricing','EV Connector Types']].loc[74:76]\n"
      ],
      "execution_count": 0,
      "outputs": [
        {
          "output_type": "execute_result",
          "data": {
            "text/html": [
              "<div>\n",
              "<style scoped>\n",
              "    .dataframe tbody tr th:only-of-type {\n",
              "        vertical-align: middle;\n",
              "    }\n",
              "\n",
              "    .dataframe tbody tr th {\n",
              "        vertical-align: top;\n",
              "    }\n",
              "\n",
              "    .dataframe thead th {\n",
              "        text-align: right;\n",
              "    }\n",
              "</style>\n",
              "<table border=\"1\" class=\"dataframe\">\n",
              "  <thead>\n",
              "    <tr style=\"text-align: right;\">\n",
              "      <th></th>\n",
              "      <th>Station Name</th>\n",
              "      <th>Street Address</th>\n",
              "      <th>geocode</th>\n",
              "      <th>ev_pricing</th>\n",
              "      <th>EV Connector Types</th>\n",
              "    </tr>\n",
              "  </thead>\n",
              "  <tbody>\n",
              "    <tr>\n",
              "      <th>74</th>\n",
              "      <td>DeNooyer Chevrolet</td>\n",
              "      <td>127 Wolf Rd</td>\n",
              "      <td>(42.717867, -73.806317)</td>\n",
              "      <td>Free</td>\n",
              "      <td>J1772COMBO</td>\n",
              "    </tr>\n",
              "    <tr>\n",
              "      <th>76</th>\n",
              "      <td>ROSENBLUM300</td>\n",
              "      <td>1 Winners Cir</td>\n",
              "      <td>(42.718322, -73.797207)</td>\n",
              "      <td>NaN</td>\n",
              "      <td>J1772</td>\n",
              "    </tr>\n",
              "  </tbody>\n",
              "</table>\n",
              "</div>"
            ],
            "text/plain": [
              "          Station Name Street Address  ... ev_pricing EV Connector Types\n",
              "74  DeNooyer Chevrolet    127 Wolf Rd  ...       Free         J1772COMBO\n",
              "76        ROSENBLUM300  1 Winners Cir  ...        NaN              J1772\n",
              "\n",
              "[2 rows x 5 columns]"
            ]
          },
          "metadata": {
            "tags": []
          },
          "execution_count": 36
        }
      ]
    },
    {
      "cell_type": "code",
      "metadata": {
        "id": "1h96fOP8OyBi",
        "colab_type": "code",
        "colab": {}
      },
      "source": [
        "df4 = df4.drop_duplicates(subset='geocode')\n"
      ],
      "execution_count": 0,
      "outputs": []
    },
    {
      "cell_type": "code",
      "metadata": {
        "id": "EEEXISKq6G2B",
        "colab_type": "code",
        "outputId": "d32c18fc-9c14-4fff-bd97-3a87370d0cfc",
        "colab": {
          "base_uri": "https://localhost:8080/",
          "height": 35
        }
      },
      "source": [
        "df4['ev_pricing'].isnull().sum(), df4.shape"
      ],
      "execution_count": 0,
      "outputs": [
        {
          "output_type": "execute_result",
          "data": {
            "text/plain": [
              "(698, (1630, 63))"
            ]
          },
          "metadata": {
            "tags": []
          },
          "execution_count": 38
        }
      ]
    },
    {
      "cell_type": "code",
      "metadata": {
        "colab_type": "code",
        "outputId": "81bf729d-2554-4aeb-e02d-65f09fced7df",
        "id": "4E_Uk-MP8XLB",
        "colab": {
          "base_uri": "https://localhost:8080/",
          "height": 202
        }
      },
      "source": [
        "# reading data about counties in NY \n",
        "\n",
        "df5 = pd.read_csv('https://raw.githubusercontent.com/richardmahuze/sysen5880project/master/ny_fips.csv')\n",
        "df5.head()"
      ],
      "execution_count": 0,
      "outputs": [
        {
          "output_type": "execute_result",
          "data": {
            "text/html": [
              "<div>\n",
              "<style scoped>\n",
              "    .dataframe tbody tr th:only-of-type {\n",
              "        vertical-align: middle;\n",
              "    }\n",
              "\n",
              "    .dataframe tbody tr th {\n",
              "        vertical-align: top;\n",
              "    }\n",
              "\n",
              "    .dataframe thead th {\n",
              "        text-align: right;\n",
              "    }\n",
              "</style>\n",
              "<table border=\"1\" class=\"dataframe\">\n",
              "  <thead>\n",
              "    <tr style=\"text-align: right;\">\n",
              "      <th></th>\n",
              "      <th>County Name</th>\n",
              "      <th>State FIPS</th>\n",
              "      <th>County Code</th>\n",
              "      <th>County FIPS</th>\n",
              "      <th>ZIP Code</th>\n",
              "      <th>File Date</th>\n",
              "    </tr>\n",
              "  </thead>\n",
              "  <tbody>\n",
              "    <tr>\n",
              "      <th>0</th>\n",
              "      <td>Albany</td>\n",
              "      <td>36</td>\n",
              "      <td>1</td>\n",
              "      <td>36001</td>\n",
              "      <td>12007</td>\n",
              "      <td>07/25/2007</td>\n",
              "    </tr>\n",
              "    <tr>\n",
              "      <th>1</th>\n",
              "      <td>Albany</td>\n",
              "      <td>36</td>\n",
              "      <td>1</td>\n",
              "      <td>36001</td>\n",
              "      <td>12009</td>\n",
              "      <td>07/25/2007</td>\n",
              "    </tr>\n",
              "    <tr>\n",
              "      <th>2</th>\n",
              "      <td>Albany</td>\n",
              "      <td>36</td>\n",
              "      <td>1</td>\n",
              "      <td>36001</td>\n",
              "      <td>12023</td>\n",
              "      <td>07/25/2007</td>\n",
              "    </tr>\n",
              "    <tr>\n",
              "      <th>3</th>\n",
              "      <td>Albany</td>\n",
              "      <td>36</td>\n",
              "      <td>1</td>\n",
              "      <td>36001</td>\n",
              "      <td>12041</td>\n",
              "      <td>07/25/2007</td>\n",
              "    </tr>\n",
              "    <tr>\n",
              "      <th>4</th>\n",
              "      <td>Albany</td>\n",
              "      <td>36</td>\n",
              "      <td>1</td>\n",
              "      <td>36001</td>\n",
              "      <td>12045</td>\n",
              "      <td>07/25/2007</td>\n",
              "    </tr>\n",
              "  </tbody>\n",
              "</table>\n",
              "</div>"
            ],
            "text/plain": [
              "  County Name  State FIPS  County Code  County FIPS  ZIP Code   File Date\n",
              "0      Albany          36            1        36001     12007  07/25/2007\n",
              "1      Albany          36            1        36001     12009  07/25/2007\n",
              "2      Albany          36            1        36001     12023  07/25/2007\n",
              "3      Albany          36            1        36001     12041  07/25/2007\n",
              "4      Albany          36            1        36001     12045  07/25/2007"
            ]
          },
          "metadata": {
            "tags": []
          },
          "execution_count": 39
        }
      ]
    },
    {
      "cell_type": "code",
      "metadata": {
        "id": "8qGoOg9-8jrm",
        "colab_type": "code",
        "colab": {}
      },
      "source": [
        "# Renaming the 'ZIP Code' feature to 'Zipcode'\n",
        "\n",
        "df5.rename(columns = {'ZIP Code':'Zipcode'}, inplace = True) \n",
        "\n",
        "# dropping all columns except Zipcode and County FIPS\n",
        "df5 = df5.filter(['Zipcode', 'County FIPS'])"
      ],
      "execution_count": 0,
      "outputs": []
    },
    {
      "cell_type": "code",
      "metadata": {
        "colab_type": "code",
        "outputId": "b75a4fc4-3f55-48c6-9cba-c3c84bad1647",
        "id": "xu1PCghr8tMK",
        "colab": {
          "base_uri": "https://localhost:8080/",
          "height": 35
        }
      },
      "source": [
        "df6 = pd.merge(df4,df5, on='Zipcode', how='inner')\n",
        "df6.shape"
      ],
      "execution_count": 0,
      "outputs": [
        {
          "output_type": "execute_result",
          "data": {
            "text/plain": [
              "(1838, 64)"
            ]
          },
          "metadata": {
            "tags": []
          },
          "execution_count": 41
        }
      ]
    },
    {
      "cell_type": "code",
      "metadata": {
        "id": "i-pZRmSdQCgf",
        "colab_type": "code",
        "outputId": "eefd7dfb-6d6e-45e3-aadf-978d56b5af55",
        "colab": {
          "base_uri": "https://localhost:8080/",
          "height": 35
        }
      },
      "source": [
        "dupes_geocode3 = df6[df6.duplicated(['geocode'], keep=False)]\n",
        "dupes_geocode3[['Station Name','Street Address','geocode','ev_pricing','EV Connector Types']].shape, len(df6['geocode'])-len(df6['geocode'].drop_duplicates())"
      ],
      "execution_count": 0,
      "outputs": [
        {
          "output_type": "execute_result",
          "data": {
            "text/plain": [
              "((400, 5), 210)"
            ]
          },
          "metadata": {
            "tags": []
          },
          "execution_count": 42
        }
      ]
    },
    {
      "cell_type": "code",
      "metadata": {
        "id": "16EwcidHQgl8",
        "colab_type": "code",
        "outputId": "b5a02669-027e-442e-dbe9-43ad7495e293",
        "colab": {
          "base_uri": "https://localhost:8080/",
          "height": 1000
        }
      },
      "source": [
        "dupes_geocode3[['Station Name','Street Address','geocode','ev_pricing','EV Connector Types']].head(8)"
      ],
      "execution_count": 0,
      "outputs": [
        {
          "output_type": "execute_result",
          "data": {
            "text/html": [
              "<div>\n",
              "<style scoped>\n",
              "    .dataframe tbody tr th:only-of-type {\n",
              "        vertical-align: middle;\n",
              "    }\n",
              "\n",
              "    .dataframe tbody tr th {\n",
              "        vertical-align: top;\n",
              "    }\n",
              "\n",
              "    .dataframe thead th {\n",
              "        text-align: right;\n",
              "    }\n",
              "</style>\n",
              "<table border=\"1\" class=\"dataframe\">\n",
              "  <thead>\n",
              "    <tr style=\"text-align: right;\">\n",
              "      <th></th>\n",
              "      <th>Station Name</th>\n",
              "      <th>Street Address</th>\n",
              "      <th>geocode</th>\n",
              "      <th>ev_pricing</th>\n",
              "      <th>EV Connector Types</th>\n",
              "    </tr>\n",
              "  </thead>\n",
              "  <tbody>\n",
              "    <tr>\n",
              "      <th>0</th>\n",
              "      <td>Hannaford Supermarket</td>\n",
              "      <td>5239 Western Tpke</td>\n",
              "      <td>(42.716215999999996, -73.934492)</td>\n",
              "      <td>NaN</td>\n",
              "      <td>CHADEMO J1772COMBO</td>\n",
              "    </tr>\n",
              "    <tr>\n",
              "      <th>1</th>\n",
              "      <td>Hannaford Supermarket</td>\n",
              "      <td>5239 Western Tpke</td>\n",
              "      <td>(42.716215999999996, -73.934492)</td>\n",
              "      <td>NaN</td>\n",
              "      <td>CHADEMO J1772COMBO</td>\n",
              "    </tr>\n",
              "    <tr>\n",
              "      <th>113</th>\n",
              "      <td>Century Parking Corp - Tesla Destination</td>\n",
              "      <td>2600 Netherland Ave</td>\n",
              "      <td>(40.878611, -73.914792)</td>\n",
              "      <td>Free</td>\n",
              "      <td>TESLA</td>\n",
              "    </tr>\n",
              "    <tr>\n",
              "      <th>114</th>\n",
              "      <td>Century Parking Corp - Tesla Destination</td>\n",
              "      <td>2600 Netherland Ave</td>\n",
              "      <td>(40.878611, -73.914792)</td>\n",
              "      <td>Free</td>\n",
              "      <td>TESLA</td>\n",
              "    </tr>\n",
              "    <tr>\n",
              "      <th>115</th>\n",
              "      <td>3050 Corlear Ave - Nagle Parking Inc. - Tesla ...</td>\n",
              "      <td>3050 Corlear Ave</td>\n",
              "      <td>(40.8799, -73.907762)</td>\n",
              "      <td>Free</td>\n",
              "      <td>TESLA</td>\n",
              "    </tr>\n",
              "    <tr>\n",
              "      <th>116</th>\n",
              "      <td>3050 Corlear Ave - Nagle Parking Inc. - Tesla ...</td>\n",
              "      <td>3050 Corlear Ave</td>\n",
              "      <td>(40.8799, -73.907762)</td>\n",
              "      <td>Free</td>\n",
              "      <td>TESLA</td>\n",
              "    </tr>\n",
              "    <tr>\n",
              "      <th>126</th>\n",
              "      <td>GAULT BMW</td>\n",
              "      <td>2311 North St</td>\n",
              "      <td>(42.107059, -76.035088)</td>\n",
              "      <td>$0.17 per kWh</td>\n",
              "      <td>J1772</td>\n",
              "    </tr>\n",
              "    <tr>\n",
              "      <th>127</th>\n",
              "      <td>GAULT BMW</td>\n",
              "      <td>2311 North St</td>\n",
              "      <td>(42.107059, -76.035088)</td>\n",
              "      <td>$0.17 per kWh</td>\n",
              "      <td>J1772</td>\n",
              "    </tr>\n",
              "    <tr>\n",
              "      <th>151</th>\n",
              "      <td>Fair Haven Public Works</td>\n",
              "      <td>14523 Cayuga St</td>\n",
              "      <td>(43.319653, -76.69855799999999)</td>\n",
              "      <td>NaN</td>\n",
              "      <td>J1772</td>\n",
              "    </tr>\n",
              "    <tr>\n",
              "      <th>152</th>\n",
              "      <td>Fair Haven Public Works</td>\n",
              "      <td>14523 Cayuga St</td>\n",
              "      <td>(43.319653, -76.69855799999999)</td>\n",
              "      <td>NaN</td>\n",
              "      <td>J1772</td>\n",
              "    </tr>\n",
              "    <tr>\n",
              "      <th>162</th>\n",
              "      <td>Hilton Garden Inn Elmira/Corning - Tesla Desti...</td>\n",
              "      <td>35  Arnot Rd</td>\n",
              "      <td>(42.162052, -76.873535)</td>\n",
              "      <td>Free</td>\n",
              "      <td>TESLA</td>\n",
              "    </tr>\n",
              "    <tr>\n",
              "      <th>163</th>\n",
              "      <td>Hilton Garden Inn Elmira/Corning - Tesla Desti...</td>\n",
              "      <td>35  Arnot Rd</td>\n",
              "      <td>(42.162052, -76.873535)</td>\n",
              "      <td>Free</td>\n",
              "      <td>TESLA</td>\n",
              "    </tr>\n",
              "    <tr>\n",
              "      <th>164</th>\n",
              "      <td>Simmons Rockwell Nissan</td>\n",
              "      <td>224 Colonial Dr</td>\n",
              "      <td>(42.162459999999996, -76.867435)</td>\n",
              "      <td>Free</td>\n",
              "      <td>CHADEMO J1772 J1772COMBO</td>\n",
              "    </tr>\n",
              "    <tr>\n",
              "      <th>165</th>\n",
              "      <td>Simmons Rockwell Nissan</td>\n",
              "      <td>224 Colonial Dr</td>\n",
              "      <td>(42.162459999999996, -76.867435)</td>\n",
              "      <td>Free</td>\n",
              "      <td>CHADEMO J1772 J1772COMBO</td>\n",
              "    </tr>\n",
              "    <tr>\n",
              "      <th>166</th>\n",
              "      <td>Fairfield Inn &amp; Suites by Marriott Elmira Corn...</td>\n",
              "      <td>1600 County Rd 64</td>\n",
              "      <td>(42.15882, -76.85611999999999)</td>\n",
              "      <td>Free</td>\n",
              "      <td>J1772 TESLA</td>\n",
              "    </tr>\n",
              "    <tr>\n",
              "      <th>167</th>\n",
              "      <td>Fairfield Inn &amp; Suites by Marriott Elmira Corn...</td>\n",
              "      <td>1600 County Rd 64</td>\n",
              "      <td>(42.15882, -76.85611999999999)</td>\n",
              "      <td>Free</td>\n",
              "      <td>J1772 TESLA</td>\n",
              "    </tr>\n",
              "    <tr>\n",
              "      <th>168</th>\n",
              "      <td>Courtyard by Marriott Elmira Horseheads - Tesl...</td>\n",
              "      <td>202 Colonial Dr</td>\n",
              "      <td>(42.161972, -76.86731800000001)</td>\n",
              "      <td>Free</td>\n",
              "      <td>J1772 TESLA</td>\n",
              "    </tr>\n",
              "    <tr>\n",
              "      <th>169</th>\n",
              "      <td>Courtyard by Marriott Elmira Horseheads - Tesl...</td>\n",
              "      <td>202 Colonial Dr</td>\n",
              "      <td>(42.161972, -76.86731800000001)</td>\n",
              "      <td>Free</td>\n",
              "      <td>J1772 TESLA</td>\n",
              "    </tr>\n",
              "    <tr>\n",
              "      <th>170</th>\n",
              "      <td>Town of Veteran</td>\n",
              "      <td>4049 Watkins Rd</td>\n",
              "      <td>(42.250834000000005, -76.838332)</td>\n",
              "      <td>Free</td>\n",
              "      <td>J1772</td>\n",
              "    </tr>\n",
              "    <tr>\n",
              "      <th>171</th>\n",
              "      <td>Town of Veteran</td>\n",
              "      <td>4049 Watkins Rd</td>\n",
              "      <td>(42.250834000000005, -76.838332)</td>\n",
              "      <td>Free</td>\n",
              "      <td>J1772</td>\n",
              "    </tr>\n",
              "    <tr>\n",
              "      <th>183</th>\n",
              "      <td>Black Brook Town Offices</td>\n",
              "      <td>18 N Main St</td>\n",
              "      <td>(44.442528, -73.674603)</td>\n",
              "      <td>NaN</td>\n",
              "      <td>J1772</td>\n",
              "    </tr>\n",
              "    <tr>\n",
              "      <th>184</th>\n",
              "      <td>Black Brook Town Offices</td>\n",
              "      <td>18 N Main St</td>\n",
              "      <td>(44.442528, -73.674603)</td>\n",
              "      <td>NaN</td>\n",
              "      <td>J1772</td>\n",
              "    </tr>\n",
              "    <tr>\n",
              "      <th>185</th>\n",
              "      <td>Black Brook Town Offices</td>\n",
              "      <td>18 N Main St</td>\n",
              "      <td>(44.442528, -73.674603)</td>\n",
              "      <td>NaN</td>\n",
              "      <td>J1772</td>\n",
              "    </tr>\n",
              "    <tr>\n",
              "      <th>195</th>\n",
              "      <td>TF VALATIE</td>\n",
              "      <td>2424 NY-203</td>\n",
              "      <td>(42.381609999999995, -73.63922)</td>\n",
              "      <td>Free</td>\n",
              "      <td>J1772</td>\n",
              "    </tr>\n",
              "    <tr>\n",
              "      <th>196</th>\n",
              "      <td>TF VALATIE</td>\n",
              "      <td>2424 NY-203</td>\n",
              "      <td>(42.381609999999995, -73.63922)</td>\n",
              "      <td>Free</td>\n",
              "      <td>J1772</td>\n",
              "    </tr>\n",
              "    <tr>\n",
              "      <th>197</th>\n",
              "      <td>TOK EVSE</td>\n",
              "      <td>3211 Church St</td>\n",
              "      <td>(42.415531, -73.676855)</td>\n",
              "      <td>NaN</td>\n",
              "      <td>J1772</td>\n",
              "    </tr>\n",
              "    <tr>\n",
              "      <th>198</th>\n",
              "      <td>TOK EVSE</td>\n",
              "      <td>3211 Church St</td>\n",
              "      <td>(42.415531, -73.676855)</td>\n",
              "      <td>NaN</td>\n",
              "      <td>J1772</td>\n",
              "    </tr>\n",
              "    <tr>\n",
              "      <th>208</th>\n",
              "      <td>Hampton Inn Cortland - Tesla Destination</td>\n",
              "      <td>26 River St</td>\n",
              "      <td>(42.606836, -76.164117)</td>\n",
              "      <td>Free</td>\n",
              "      <td>J1772 TESLA</td>\n",
              "    </tr>\n",
              "    <tr>\n",
              "      <th>209</th>\n",
              "      <td>Hampton Inn Cortland - Tesla Destination</td>\n",
              "      <td>26 River St</td>\n",
              "      <td>(42.606836, -76.164117)</td>\n",
              "      <td>Free</td>\n",
              "      <td>J1772 TESLA</td>\n",
              "    </tr>\n",
              "    <tr>\n",
              "      <th>210</th>\n",
              "      <td>Hampton Inn Cortland - Tesla Destination</td>\n",
              "      <td>26 River St</td>\n",
              "      <td>(42.606836, -76.164117)</td>\n",
              "      <td>Free</td>\n",
              "      <td>J1772 TESLA</td>\n",
              "    </tr>\n",
              "    <tr>\n",
              "      <th>211</th>\n",
              "      <td>Country Inn &amp; Suites By Carlson, Cortland, NY ...</td>\n",
              "      <td>3707 State Rte 281</td>\n",
              "      <td>(42.586515999999996, -76.211675)</td>\n",
              "      <td>NaN</td>\n",
              "      <td>J1772 TESLA</td>\n",
              "    </tr>\n",
              "    <tr>\n",
              "      <th>212</th>\n",
              "      <td>Country Inn &amp; Suites By Carlson, Cortland, NY ...</td>\n",
              "      <td>3707 State Rte 281</td>\n",
              "      <td>(42.586515999999996, -76.211675)</td>\n",
              "      <td>NaN</td>\n",
              "      <td>J1772 TESLA</td>\n",
              "    </tr>\n",
              "    <tr>\n",
              "      <th>213</th>\n",
              "      <td>Country Inn &amp; Suites By Carlson, Cortland, NY ...</td>\n",
              "      <td>3707 State Rte 281</td>\n",
              "      <td>(42.586515999999996, -76.211675)</td>\n",
              "      <td>NaN</td>\n",
              "      <td>J1772 TESLA</td>\n",
              "    </tr>\n",
              "    <tr>\n",
              "      <th>214</th>\n",
              "      <td>Homer Recreation Department</td>\n",
              "      <td>53 S Main St</td>\n",
              "      <td>(42.63465, -76.178589)</td>\n",
              "      <td>NaN</td>\n",
              "      <td>J1772</td>\n",
              "    </tr>\n",
              "    <tr>\n",
              "      <th>215</th>\n",
              "      <td>Homer Recreation Department</td>\n",
              "      <td>53 S Main St</td>\n",
              "      <td>(42.63465, -76.178589)</td>\n",
              "      <td>NaN</td>\n",
              "      <td>J1772</td>\n",
              "    </tr>\n",
              "    <tr>\n",
              "      <th>216</th>\n",
              "      <td>Delaware &amp; Ulster Railroad</td>\n",
              "      <td>43510 Highway 28</td>\n",
              "      <td>(42.147437, -74.614917)</td>\n",
              "      <td>NaN</td>\n",
              "      <td>J1772</td>\n",
              "    </tr>\n",
              "    <tr>\n",
              "      <th>217</th>\n",
              "      <td>Delaware &amp; Ulster Railroad</td>\n",
              "      <td>43510 Highway 28</td>\n",
              "      <td>(42.147437, -74.614917)</td>\n",
              "      <td>NaN</td>\n",
              "      <td>J1772</td>\n",
              "    </tr>\n",
              "    <tr>\n",
              "      <th>232</th>\n",
              "      <td>Hudson Valley Towne Center - Tesla Supercharger</td>\n",
              "      <td>18 Westgate Dr</td>\n",
              "      <td>(41.526706, -73.894518)</td>\n",
              "      <td>NaN</td>\n",
              "      <td>TESLA</td>\n",
              "    </tr>\n",
              "    <tr>\n",
              "      <th>233</th>\n",
              "      <td>Hudson Valley Towne Center - Tesla Supercharger</td>\n",
              "      <td>18 Westgate Dr</td>\n",
              "      <td>(41.526706, -73.894518)</td>\n",
              "      <td>NaN</td>\n",
              "      <td>TESLA</td>\n",
              "    </tr>\n",
              "    <tr>\n",
              "      <th>234</th>\n",
              "      <td>Grape Hollow Farm - Tesla Destination</td>\n",
              "      <td>62 Paine Rd</td>\n",
              "      <td>(41.548637, -73.692718)</td>\n",
              "      <td>Free</td>\n",
              "      <td>TESLA</td>\n",
              "    </tr>\n",
              "  </tbody>\n",
              "</table>\n",
              "</div>"
            ],
            "text/plain": [
              "                                          Station Name  ...        EV Connector Types\n",
              "0                                Hannaford Supermarket  ...        CHADEMO J1772COMBO\n",
              "1                                Hannaford Supermarket  ...        CHADEMO J1772COMBO\n",
              "113           Century Parking Corp - Tesla Destination  ...                     TESLA\n",
              "114           Century Parking Corp - Tesla Destination  ...                     TESLA\n",
              "115  3050 Corlear Ave - Nagle Parking Inc. - Tesla ...  ...                     TESLA\n",
              "116  3050 Corlear Ave - Nagle Parking Inc. - Tesla ...  ...                     TESLA\n",
              "126                                          GAULT BMW  ...                     J1772\n",
              "127                                          GAULT BMW  ...                     J1772\n",
              "151                            Fair Haven Public Works  ...                     J1772\n",
              "152                            Fair Haven Public Works  ...                     J1772\n",
              "162  Hilton Garden Inn Elmira/Corning - Tesla Desti...  ...                     TESLA\n",
              "163  Hilton Garden Inn Elmira/Corning - Tesla Desti...  ...                     TESLA\n",
              "164                            Simmons Rockwell Nissan  ...  CHADEMO J1772 J1772COMBO\n",
              "165                            Simmons Rockwell Nissan  ...  CHADEMO J1772 J1772COMBO\n",
              "166  Fairfield Inn & Suites by Marriott Elmira Corn...  ...               J1772 TESLA\n",
              "167  Fairfield Inn & Suites by Marriott Elmira Corn...  ...               J1772 TESLA\n",
              "168  Courtyard by Marriott Elmira Horseheads - Tesl...  ...               J1772 TESLA\n",
              "169  Courtyard by Marriott Elmira Horseheads - Tesl...  ...               J1772 TESLA\n",
              "170                                    Town of Veteran  ...                     J1772\n",
              "171                                    Town of Veteran  ...                     J1772\n",
              "183                           Black Brook Town Offices  ...                     J1772\n",
              "184                           Black Brook Town Offices  ...                     J1772\n",
              "185                           Black Brook Town Offices  ...                     J1772\n",
              "195                                         TF VALATIE  ...                     J1772\n",
              "196                                         TF VALATIE  ...                     J1772\n",
              "197                                           TOK EVSE  ...                     J1772\n",
              "198                                           TOK EVSE  ...                     J1772\n",
              "208           Hampton Inn Cortland - Tesla Destination  ...               J1772 TESLA\n",
              "209           Hampton Inn Cortland - Tesla Destination  ...               J1772 TESLA\n",
              "210           Hampton Inn Cortland - Tesla Destination  ...               J1772 TESLA\n",
              "211  Country Inn & Suites By Carlson, Cortland, NY ...  ...               J1772 TESLA\n",
              "212  Country Inn & Suites By Carlson, Cortland, NY ...  ...               J1772 TESLA\n",
              "213  Country Inn & Suites By Carlson, Cortland, NY ...  ...               J1772 TESLA\n",
              "214                        Homer Recreation Department  ...                     J1772\n",
              "215                        Homer Recreation Department  ...                     J1772\n",
              "216                         Delaware & Ulster Railroad  ...                     J1772\n",
              "217                         Delaware & Ulster Railroad  ...                     J1772\n",
              "232    Hudson Valley Towne Center - Tesla Supercharger  ...                     TESLA\n",
              "233    Hudson Valley Towne Center - Tesla Supercharger  ...                     TESLA\n",
              "234              Grape Hollow Farm - Tesla Destination  ...                     TESLA\n",
              "\n",
              "[40 rows x 5 columns]"
            ]
          },
          "metadata": {
            "tags": []
          },
          "execution_count": 43
        }
      ]
    },
    {
      "cell_type": "code",
      "metadata": {
        "id": "b5Qq-wtXA1aG",
        "colab_type": "code",
        "outputId": "c46fd326-17aa-4ffd-d542-0d98cfb8e6f1",
        "colab": {
          "base_uri": "https://localhost:8080/",
          "height": 35
        }
      },
      "source": [
        "df6 = df6.drop_duplicates(subset='geocode')\n",
        "df6.shape"
      ],
      "execution_count": 0,
      "outputs": [
        {
          "output_type": "execute_result",
          "data": {
            "text/plain": [
              "(1628, 64)"
            ]
          },
          "metadata": {
            "tags": []
          },
          "execution_count": 44
        }
      ]
    },
    {
      "cell_type": "markdown",
      "metadata": {
        "id": "EeRpwlZL7JCf",
        "colab_type": "text"
      },
      "source": [
        "#### Visualizing missing data"
      ]
    },
    {
      "cell_type": "code",
      "metadata": {
        "id": "xZCv3ILE6HDI",
        "colab_type": "code",
        "outputId": "64e6445c-1355-4cc0-d14f-a15ec83b96d9",
        "colab": {
          "base_uri": "https://localhost:8080/",
          "height": 644
        }
      },
      "source": [
        "import seaborn as sns\n",
        "import matplotlib.pyplot as plt\n",
        "%matplotlib inline\n",
        "\n",
        "#plotting the heatmap for missing data visualization\n",
        "plt.subplots(figsize=(15,5))\n",
        "sns.heatmap(df6[['Zipcode','Station Name','EVs on the Road','Sum of Travel Time to Work (Less than 10 minutes)',\n",
        "                 'Sum of Travel Time to Work (10 to 14 minutes)',\n",
        "                 'Sum of Travel Time to Work (15 to 19 minutes)',\n",
        "                 'Sum of Travel Time to Work (20 to 24 minutes)',\n",
        "                 'Sum of Travel Time to Work (25 to 29 minutes)',\n",
        "                 'Sum of Travel Time to Work (30 to 34 minutes)',\n",
        "                 'Sum of Travel Time to Work (35 to 44 minutes)',\n",
        "                 'Sum of Travel Time to Work (45 to 59 minutes)',\n",
        "                 'Sum of Travel Time to Work (60 or more minutes)',                \n",
        "                 'geocode','ev_pricing','Sum of Median Household Income in Past 12 Months',\n",
        "                'Total Sum of Charging Time (hours)','Total Sum of Energy (kWh)',\n",
        "                'EV Network','DCFC Ports','Level 2 Ports','Current Population',\n",
        "                'EV Connector Types']].isnull(),yticklabels=False, cbar=False,cmap='viridis')"
      ],
      "execution_count": 0,
      "outputs": [
        {
          "output_type": "stream",
          "text": [
            "/usr/local/lib/python3.6/dist-packages/statsmodels/tools/_testing.py:19: FutureWarning: pandas.util.testing is deprecated. Use the functions in the public API at pandas.testing instead.\n",
            "  import pandas.util.testing as tm\n"
          ],
          "name": "stderr"
        },
        {
          "output_type": "execute_result",
          "data": {
            "text/plain": [
              "<matplotlib.axes._subplots.AxesSubplot at 0x7fe4cffc6630>"
            ]
          },
          "metadata": {
            "tags": []
          },
          "execution_count": 204
        },
        {
          "output_type": "display_data",
          "data": {
            "image/png": "[encoded data removed]",
            "text/plain": [
              "<Figure size 1080x360 with 1 Axes>"
            ]
          },
          "metadata": {
            "tags": [],
            "needs_background": "light"
          }
        }
      ]
    },
    {
      "cell_type": "markdown",
      "metadata": {
        "id": "pmiz50LP5QRp",
        "colab_type": "text"
      },
      "source": [
        "#### Data type conversion"
      ]
    },
    {
      "cell_type": "code",
      "metadata": {
        "id": "Dp-HEvrG6HU9",
        "colab_type": "code",
        "colab": {}
      },
      "source": [
        "# Sorting, if needed\n",
        "# df3.sort_values(by=['Station Name'], inplace=True)\n",
        "# df4.sort_values(by=['Station Name'], inplace=True)\n"
      ],
      "execution_count": 0,
      "outputs": []
    },
    {
      "cell_type": "code",
      "metadata": {
        "id": "UU0R5cBX6yVO",
        "colab_type": "code",
        "outputId": "106c86f6-a85e-40ee-d1a6-11d77183e723",
        "colab": {
          "base_uri": "https://localhost:8080/",
          "height": 225
        }
      },
      "source": [
        "df6.dtypes"
      ],
      "execution_count": 0,
      "outputs": [
        {
          "output_type": "execute_result",
          "data": {
            "text/plain": [
              "Zipcode                float64\n",
              "Current Population      object\n",
              "EVs on the Road         object\n",
              "BEVs per 1k People     float64\n",
              "PHEVs per 1k People    float64\n",
              "                        ...   \n",
              "Open Date               object\n",
              "EV Connector Types      object\n",
              "geocode                 object\n",
              "ev_pricing              object\n",
              "County FIPS              int64\n",
              "Length: 64, dtype: object"
            ]
          },
          "metadata": {
            "tags": []
          },
          "execution_count": 25
        }
      ]
    },
    {
      "cell_type": "code",
      "metadata": {
        "id": "mNLDuoHpgpph",
        "colab_type": "code",
        "colab": {}
      },
      "source": [
        "#changing the datatypes of several columns in df4\n",
        "\n",
        "df6['Current Population'] = df6['Current Population'].str.replace(',', '').astype(float)\n",
        "df6['EVs on the Road'] = df6['EVs on the Road'].str.replace(',', '').astype(float)\n",
        "df6['Level 2 Ports'] = df6['Level 2 Ports'].str.replace(',', '').astype(float)\n",
        "df6['DCFC per 1k People'] = df6['DCFC per 1k People'].str.replace(',', '').astype(float)\n",
        "df6['Level 2 per 1k People'] = df6['Level 2 per 1k People'].str.replace(',', '').astype(float)\n",
        "df6['Sum of Median Household Income in Past 12 Months'] = df6['Sum of Median Household Income in Past 12 Months'].str.replace('$', '').str.replace(',', '').str.replace('-', '').str.replace('(', '').str.replace(')', '').astype(float)\n",
        "\n",
        "#changing the Zipcode column of df1 from str to int64. Any non-covertible var gets NaN\n",
        "# df1['Zipcode'] = pd.to_numeric(df1['Zipcode'], errors='coerce')\n"
      ],
      "execution_count": 0,
      "outputs": []
    },
    {
      "cell_type": "markdown",
      "metadata": {
        "id": "o87LUNRt2Mtu",
        "colab_type": "text"
      },
      "source": [
        "#### Export CSV"
      ]
    },
    {
      "cell_type": "code",
      "metadata": {
        "id": "zOqDjeVYuQt8",
        "colab_type": "code",
        "outputId": "ab18d7be-d9fa-451c-db66-d8cdb5fba89a",
        "colab": {
          "base_uri": "https://localhost:8080/",
          "height": 35
        }
      },
      "source": [
        "from google.colab import  drive\n",
        "\n",
        "drive.mount('/drive')\n"
      ],
      "execution_count": 0,
      "outputs": [
        {
          "output_type": "stream",
          "text": [
            "Drive already mounted at /drive; to attempt to forcibly remount, call drive.mount(\"/drive\", force_remount=True).\n"
          ],
          "name": "stdout"
        }
      ]
    },
    {
      "cell_type": "code",
      "metadata": {
        "id": "m4ANcHGbveGV",
        "colab_type": "code",
        "colab": {}
      },
      "source": [
        "df6.to_csv('/drive/My Drive/Transportation Project Team/data processing/merged_data.csv')\n"
      ],
      "execution_count": 0,
      "outputs": []
    },
    {
      "cell_type": "markdown",
      "metadata": {
        "id": "q4TtNlei-XGQ",
        "colab_type": "text"
      },
      "source": [
        "#### Establishing categories for the pricing feature"
      ]
    },
    {
      "cell_type": "code",
      "metadata": {
        "id": "2wl9jhmqNXrG",
        "colab_type": "code",
        "colab": {}
      },
      "source": [
        "# establishing categories for ev_pricing feature\n",
        "\n",
        "searchfor_time = ['Time', 'hour', 'minute']\n",
        "searchfor_minmax = ['minimum', 'maximum']\n",
        "\n",
        "\n",
        "df6.loc[df6['ev_pricing'].str.contains('|'.join(searchfor_time),na=False), 'ev_pricing'] = 'Time Dependance'\n",
        "\n",
        "df6.loc[df6['ev_pricing'].str.contains('|'.join(searchfor_minmax),na=False), 'ev_pricing'] = 'MinMax Payment'\n",
        "\n",
        "df6.loc[df6['ev_pricing'].str.contains('session',na=False), 'ev_pricing'] = 'Per Session'\n"
      ],
      "execution_count": 0,
      "outputs": []
    },
    {
      "cell_type": "code",
      "metadata": {
        "id": "Uf8AGoBlNYGb",
        "colab_type": "code",
        "colab": {}
      },
      "source": [
        "df6.loc[df6['ev_pricing'].str.contains('per',na=False), 'ev_pricing'] = 'Per KwH'\n",
        "\n",
        "df6.loc[df6['ev_pricing'].str.contains('Free',na=False), 'ev_pricing'] = 'Free'"
      ],
      "execution_count": 0,
      "outputs": []
    },
    {
      "cell_type": "code",
      "metadata": {
        "id": "KrIewA7sNY9k",
        "colab_type": "code",
        "outputId": "c0da75ef-924c-485b-e050-91657eecb5fa",
        "colab": {
          "base_uri": "https://localhost:8080/",
          "height": 629
        }
      },
      "source": [
        "df6['ev_pricing'].value_counts().plot(kind='barh',figsize=(20,10),title='EV Station Pricing in NY', fontsize=15)"
      ],
      "execution_count": 0,
      "outputs": [
        {
          "output_type": "execute_result",
          "data": {
            "text/plain": [
              "<matplotlib.axes._subplots.AxesSubplot at 0x7fd696398128>"
            ]
          },
          "metadata": {
            "tags": []
          },
          "execution_count": 120
        },
        {
          "output_type": "display_data",
          "data": {
            "image/png": "[encoded data removed]",
            "text/plain": [
              "<Figure size 1440x720 with 1 Axes>"
            ]
          },
          "metadata": {
            "tags": []
          }
        }
      ]
    },
    {
      "cell_type": "code",
      "metadata": {
        "id": "6YO2JzVHNZ5B",
        "colab_type": "code",
        "outputId": "940db623-c55b-4019-c17c-cd72fa25f59b",
        "colab": {
          "base_uri": "https://localhost:8080/",
          "height": 465
        }
      },
      "source": [
        "from plotnine import *\n",
        "\n",
        "p = ggplot(df6, aes(x='Longitude', y='Latitude', color='ev_pricing')) + geom_point(stat='summary')\n",
        "\n",
        "# save the plot as a png file in the working directory\n",
        "#ggsave(plot = p, filename='testplot', width = 4, height = 4, units = \"in\",dpi = 300)\n",
        "\n",
        "print(p)"
      ],
      "execution_count": 0,
      "outputs": [
        {
          "output_type": "display_data",
          "data": {
            "image/png": "[encoded data removed]",
            "text/plain": [
              "<Figure size 640x480 with 1 Axes>"
            ]
          },
          "metadata": {
            "tags": []
          }
        },
        {
          "output_type": "stream",
          "text": [
            "<ggplot: (8784976391607)>\n"
          ],
          "name": "stdout"
        }
      ]
    },
    {
      "cell_type": "code",
      "metadata": {
        "id": "IyxesyvLh1Ds",
        "colab_type": "code",
        "outputId": "c4dcbd0b-1d41-469f-eb83-70c7692a3b5c",
        "colab": {
          "base_uri": "https://localhost:8080/",
          "height": 731
        }
      },
      "source": [
        "import matplotlib.patches as mpatches\n",
        "import matplotlib.pyplot as plt\n",
        "\n",
        "ax1 = df6.plot(kind='scatter', x='Sum of Travel Time to Work (10 to 14 minutes)', y='Total Sum of Charging Time (hours)', color='r', figsize=(15,12))    \n",
        "ax2 = df6.plot(kind='scatter', x='Sum of Travel Time to Work (15 to 19 minutes)', y='Total Sum of Charging Time (hours)', color='g', ax=ax1)    \n",
        "ax3 = df6.plot(kind='scatter', x='Sum of Travel Time to Work (20 to 24 minutes)', y='Total Sum of Charging Time (hours)', color='b', ax=ax1)\n",
        "ax4 = df6.plot(kind='scatter', x='Sum of Travel Time to Work (25 to 29 minutes)', y='Total Sum of Charging Time (hours)', color='y', ax=ax1)\n",
        "ax5 = df6.plot(kind='scatter', x='Sum of Travel Time to Work (30 to 34 minutes)', y='Total Sum of Charging Time (hours)', color='cyan', ax=ax1)\n",
        "ax6 = df6.plot(kind='scatter', x='Sum of Travel Time to Work (35 to 44 minutes)', y='Total Sum of Charging Time (hours)', color='magenta', ax=ax1)\n",
        "ax7 = df6.plot(kind='scatter', x='Sum of Travel Time to Work (45 to 59 minutes)', y='Total Sum of Charging Time (hours)', color='gold', ax=ax1)\n",
        "ax8 = df6.plot(kind='scatter', x='Sum of Travel Time to Work (60 or more minutes)', y='Total Sum of Charging Time (hours)', color='black', ax=ax1)\n",
        "ax9 = df6.plot(kind='scatter', x='Sum of Travel Time to Work (Less than 10 minutes)', y='Total Sum of Charging Time (hours)', color='orange', ax=ax1)\n",
        "\n",
        "\n",
        "\n",
        "ax1.set_facecolor('xkcd:salmon')\n",
        "\n",
        "ax1.set_xlabel(\"Sum of Travel Time to Work\")\n",
        "\n",
        "less10 = mpatches.Patch(color='orange', label='Less than 10 min')\n",
        "bw1014 = mpatches.Patch(color='r', label='Between 10 to 14 min')\n",
        "bw1519 = mpatches.Patch(color='g', label='Between 15 to 19 min')\n",
        "bw2024 = mpatches.Patch(color='b', label='Between 20 to 24 min')\n",
        "bw2529 = mpatches.Patch(color='y', label='Between 25 to 29 min')\n",
        "bw3034 = mpatches.Patch(color='cyan', label='Between 30 to 34 min')\n",
        "bw3544 = mpatches.Patch(color='magenta', label='Between 35 to 44 min')\n",
        "bw4459 = mpatches.Patch(color='gold', label='Between 45 to 59 min')\n",
        "more60 = mpatches.Patch(color='black', label='60 min or more')\n",
        "\n",
        "plt.legend(handles=[less10,bw1014,bw1519,bw2024,bw2529,bw3034,bw3544,bw4459,more60])\n"
      ],
      "execution_count": 0,
      "outputs": [
        {
          "output_type": "execute_result",
          "data": {
            "text/plain": [
              "<matplotlib.legend.Legend at 0x7fd6903c0fd0>"
            ]
          },
          "metadata": {
            "tags": []
          },
          "execution_count": 131
        },
        {
          "output_type": "display_data",
          "data": {
            "image/png": "[encoded data removed]",
            "text/plain": [
              "<Figure size 1080x864 with 1 Axes>"
            ]
          },
          "metadata": {
            "tags": []
          }
        }
      ]
    },
    {
      "cell_type": "code",
      "metadata": {
        "id": "grESm-IE1Fck",
        "colab_type": "code",
        "outputId": "98c4d273-418e-4582-866a-4fa539b61b67",
        "colab": {
          "base_uri": "https://localhost:8080/",
          "height": 660
        }
      },
      "source": [
        "ax = df6.plot(kind='scatter', x='Total Sum of Charging Time (hours)', y='Total Sum of Energy (kWh)', color='b', figsize=(13,11))    \n"
      ],
      "execution_count": 0,
      "outputs": [
        {
          "output_type": "display_data",
          "data": {
            "image/png": "[encoded data removed]",
            "text/plain": [
              "<Figure size 936x792 with 1 Axes>"
            ]
          },
          "metadata": {
            "tags": []
          }
        }
      ]
    },
    {
      "cell_type": "code",
      "metadata": {
        "id": "JSpNV4Fa5swE",
        "colab_type": "code",
        "colab": {}
      },
      "source": [
        ""
      ],
      "execution_count": 0,
      "outputs": []
    }
  ]
}